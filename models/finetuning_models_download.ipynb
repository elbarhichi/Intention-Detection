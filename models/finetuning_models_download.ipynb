{
 "cells": [
  {
   "cell_type": "code",
   "execution_count": null,
   "metadata": {},
   "outputs": [],
   "source": [
    "from transformers import CamembertTokenizer, CamembertForSequenceClassification, Trainer, TrainingArguments\n",
    "import pandas as pd\n",
    "import torch\n",
    "from sklearn.model_selection import train_test_split\n",
    "from datasets import Dataset\n",
    "\n",
    "# Charger et préparer les données\n",
    "data = pd.read_csv('../data/train_data.csv', sep=';')\n",
    "X_train, X_val, y_train, y_val = train_test_split(data['text'], data['label'], test_size=0.2, random_state=2003)\n"
   ]
  },
  {
   "cell_type": "code",
   "execution_count": 18,
   "metadata": {},
   "outputs": [
    {
     "name": "stdout",
     "output_type": "stream",
     "text": [
      "['out_of_scope', 'book_flight', 'carry_on', 'flight_status', 'book_hotel', 'lost_luggage', 'translate', 'travel_alert', 'travel_suggestion']\n"
     ]
    }
   ],
   "source": [
    "# Charger le tokenizer CamemBERT\n",
    "tokenizer = CamembertTokenizer.from_pretrained(\"camembert-base\")\n",
    "unique_labels = list(set(y_train))\n",
    "print(unique_labels)\n",
    "# Fonction pour tokeniser les données et créer un Dataset compatible\n",
    "def tokenize_and_create_dataset(texts, labels, tokenizer, max_length=128):\n",
    "    tokens = tokenizer(texts.tolist(), padding=True, truncation=True, max_length=max_length)\n",
    "    labels_encoded = [unique_labels.index(label) for label in labels]\n",
    "    tokens['labels'] = labels_encoded\n",
    "    return Dataset.from_dict(tokens)\n",
    "\n",
    "# Créer les Datasets pour l'entraînement et la validation\n",
    "train_dataset = tokenize_and_create_dataset(X_train, y_train, tokenizer)\n",
    "val_dataset = tokenize_and_create_dataset(X_val, y_val, tokenizer)\n",
    "\n"
   ]
  },
  {
   "cell_type": "code",
   "execution_count": 10,
   "metadata": {},
   "outputs": [
    {
     "name": "stderr",
     "output_type": "stream",
     "text": [
      "Some weights of CamembertForSequenceClassification were not initialized from the model checkpoint at camembert-base and are newly initialized: ['classifier.dense.bias', 'classifier.dense.weight', 'classifier.out_proj.bias', 'classifier.out_proj.weight']\n",
      "You should probably TRAIN this model on a down-stream task to be able to use it for predictions and inference.\n",
      "c:\\Users\\moham\\AppData\\Local\\Programs\\Python\\Python312\\Lib\\site-packages\\transformers\\training_args.py:1568: FutureWarning: `evaluation_strategy` is deprecated and will be removed in version 4.46 of 🤗 Transformers. Use `eval_strategy` instead\n",
      "  warnings.warn(\n"
     ]
    },
    {
     "data": {
      "application/vnd.jupyter.widget-view+json": {
       "model_id": "e593da44168742b1bc746300188abdd3",
       "version_major": 2,
       "version_minor": 0
      },
      "text/plain": [
       "  0%|          | 0/189 [00:00<?, ?it/s]"
      ]
     },
     "metadata": {},
     "output_type": "display_data"
    },
    {
     "data": {
      "application/vnd.jupyter.widget-view+json": {
       "model_id": "5f5934050d1b4fa0a61a38b010925f36",
       "version_major": 2,
       "version_minor": 0
      },
      "text/plain": [
       "  0%|          | 0/16 [00:00<?, ?it/s]"
      ]
     },
     "metadata": {},
     "output_type": "display_data"
    },
    {
     "name": "stdout",
     "output_type": "stream",
     "text": [
      "{'eval_loss': 1.7302500009536743, 'eval_runtime': 21.0367, 'eval_samples_per_second': 11.979, 'eval_steps_per_second': 0.761, 'epoch': 1.0}\n"
     ]
    },
    {
     "data": {
      "application/vnd.jupyter.widget-view+json": {
       "model_id": "785640ff7c73425797b336498dba54d8",
       "version_major": 2,
       "version_minor": 0
      },
      "text/plain": [
       "  0%|          | 0/16 [00:00<?, ?it/s]"
      ]
     },
     "metadata": {},
     "output_type": "display_data"
    },
    {
     "name": "stdout",
     "output_type": "stream",
     "text": [
      "{'eval_loss': 1.3672679662704468, 'eval_runtime': 17.9699, 'eval_samples_per_second': 14.023, 'eval_steps_per_second': 0.89, 'epoch': 2.0}\n"
     ]
    },
    {
     "data": {
      "application/vnd.jupyter.widget-view+json": {
       "model_id": "486b44731cf942d09c98d6f8ab427002",
       "version_major": 2,
       "version_minor": 0
      },
      "text/plain": [
       "  0%|          | 0/16 [00:00<?, ?it/s]"
      ]
     },
     "metadata": {},
     "output_type": "display_data"
    },
    {
     "name": "stdout",
     "output_type": "stream",
     "text": [
      "{'eval_loss': 1.2680690288543701, 'eval_runtime': 23.6255, 'eval_samples_per_second': 10.666, 'eval_steps_per_second': 0.677, 'epoch': 3.0}\n",
      "{'train_runtime': 1068.4368, 'train_samples_per_second': 2.819, 'train_steps_per_second': 0.177, 'train_loss': 1.6887061709449405, 'epoch': 3.0}\n"
     ]
    },
    {
     "data": {
      "text/plain": [
       "TrainOutput(global_step=189, training_loss=1.6887061709449405, metrics={'train_runtime': 1068.4368, 'train_samples_per_second': 2.819, 'train_steps_per_second': 0.177, 'total_flos': 52629629755824.0, 'train_loss': 1.6887061709449405, 'epoch': 3.0})"
      ]
     },
     "execution_count": 10,
     "metadata": {},
     "output_type": "execute_result"
    }
   ],
   "source": [
    "\n",
    "# Charger le modèle CamemBERT pour la classification\n",
    "model = CamembertForSequenceClassification.from_pretrained(\"camembert-base\", num_labels=len(set(y_train)))\n",
    "\n",
    "# Configurer les arguments d'entraînement\n",
    "training_args = TrainingArguments(\n",
    "    output_dir=\"./results\",\n",
    "    evaluation_strategy=\"epoch\",   # Évaluation par époque pour surveiller les performances\n",
    "    learning_rate=2e-5,\n",
    "    per_device_train_batch_size=16,\n",
    "    per_device_eval_batch_size=16,\n",
    "    num_train_epochs=3,\n",
    "    weight_decay=0.01,\n",
    "    save_total_limit=1,  # Garder uniquement le dernier checkpoint pour réduire l'espace de stockage\n",
    "    save_strategy=\"epoch\"  # Sauvegarde du modèle à chaque fin d'époque\n",
    ")\n",
    "\n",
    "# Préparer le Trainer avec les données et les labels\n",
    "trainer = Trainer(\n",
    "    model=model,\n",
    "    args=training_args,\n",
    "    train_dataset=train_dataset,\n",
    "    eval_dataset=val_dataset\n",
    ")\n",
    "\n",
    "# Entraîner le modèle\n",
    "trainer.train()\n"
   ]
  },
  {
   "cell_type": "code",
   "execution_count": 14,
   "metadata": {},
   "outputs": [
    {
     "name": "stdout",
     "output_type": "stream",
     "text": [
      "Modèle et tokenizer fine-tunés enregistrés avec succès.\n"
     ]
    }
   ],
   "source": [
    "model.save_pretrained(\"fine_tuned_camembert_model\")\n",
    "tokenizer.save_pretrained(\"fine_tuned_camembert_model\")\n",
    "print(\"Modèle et tokenizer fine-tunés enregistrés avec succès.\")"
   ]
  }
 ],
 "metadata": {
  "kernelspec": {
   "display_name": "Python 3",
   "language": "python",
   "name": "python3"
  },
  "language_info": {
   "codemirror_mode": {
    "name": "ipython",
    "version": 3
   },
   "file_extension": ".py",
   "mimetype": "text/x-python",
   "name": "python",
   "nbconvert_exporter": "python",
   "pygments_lexer": "ipython3",
   "version": "3.12.2"
  }
 },
 "nbformat": 4,
 "nbformat_minor": 2
}
