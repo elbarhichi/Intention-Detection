{
 "cells": [
  {
   "cell_type": "code",
   "execution_count": 3,
   "metadata": {},
   "outputs": [
    {
     "name": "stdout",
     "output_type": "stream",
     "text": [
      "Dimensions des vecteurs TF-IDF : (1256, 1128)\n"
     ]
    }
   ],
   "source": [
    "from sklearn.feature_extraction.text import TfidfVectorizer\n",
    "import pandas as pd\n",
    "\n",
    "# Charger les données\n",
    "train_data = pd.read_csv('../data/train_data.csv', sep=';')\n",
    "X_train = train_data['text']\n",
    "y_train = train_data['label']\n",
    "\n",
    "# Initialiser le TF-IDF Vectorizer et l'ajuster sur X_train\n",
    "vectorizer = TfidfVectorizer()\n",
    "X_train_tfidf = vectorizer.fit_transform(X_train)\n",
    "\n",
    "print(f\"Dimensions des vecteurs TF-IDF : {X_train_tfidf.shape}\")\n"
   ]
  },
  {
   "cell_type": "code",
   "execution_count": 7,
   "metadata": {},
   "outputs": [],
   "source": [
    "from sklearn.metrics import f1_score, confusion_matrix, make_scorer\n",
    "\n",
    "def custom_score(y_true, y_pred, target_class=\"lost_luggage\"):\n",
    "    # F1-score global (macro)\n",
    "    f1_macro = f1_score(y_true, y_pred, average=\"macro\")\n",
    "    \n",
    "    # Calcul de la matrice de confusion\n",
    "    labels = list(set(y_true))\n",
    "    conf_matrix = confusion_matrix(y_true, y_pred, labels=labels)\n",
    "    \n",
    "    # Index de la classe cible\n",
    "    target_index = labels.index(target_class)\n",
    "    \n",
    "    # Calcul de TP, FP, TN pour la classe cible\n",
    "    tp = conf_matrix[target_index, target_index]\n",
    "    fp = conf_matrix[:, target_index].sum() - tp\n",
    "    tn = conf_matrix.sum() - (conf_matrix[target_index, :].sum() + conf_matrix[:, target_index].sum() - tp)\n",
    "    # Précision pour `lost_luggage`\n",
    "    precision_lost_luggage = tp / (tp + fp) if (tp + fp) > 0 else 0\n",
    "    # Sensibilité pour `lost_luggage` (rappel)\n",
    "    sensitivity_lost_luggage = tp / (tp + conf_matrix[target_index, :].sum() - tp) if (tp + conf_matrix[target_index, :].sum() - tp) > 0 else 0\n",
    "    \n",
    "    # Score pour le label cible\n",
    "    label_score = (precision_lost_luggage + sensitivity_lost_luggage) / 2\n",
    "    \n",
    "    # Combiner le F1-score global et le score pour le label cible\n",
    "    final_score = (f1_macro + label_score) / 2\n",
    "    return final_score\n",
    "\n",
    "\n",
    "custom_scorer = make_scorer(custom_score, greater_is_better=True)\n"
   ]
  },
  {
   "cell_type": "code",
   "execution_count": null,
   "metadata": {},
   "outputs": [],
   "source": [
    "from sklearn.linear_model import LogisticRegression\n",
    "from sklearn.ensemble import RandomForestClassifier\n",
    "from sklearn.neighbors import KNeighborsClassifier\n",
    "from sklearn.svm import SVC\n",
    "from sklearn.model_selection import cross_val_score\n",
    "from sklearn.pipeline import make_pipeline\n"
   ]
  },
  {
   "cell_type": "code",
   "execution_count": null,
   "metadata": {},
   "outputs": [],
   "source": [
    "from sklearn.model_selection import GridSearchCV\n",
    "\n",
    "# Configurer la pipeline avec TF-IDF suivi de SVC\n",
    "pipeline_svc = make_pipeline(TfidfVectorizer(), SVC())\n",
    "\n",
    "# Configurer GridSearchCV avec le scorer personnalisé\n",
    "param_grid_svc = {\n",
    "    \"svc__C\": [0.1, 1, 10],               # Paramètres de régularisation pour SVC\n",
    "    \"svc__kernel\": [\"linear\", \"rbf\"],     # Types de noyaux\n",
    "    \"svc__gamma\": [\"scale\", \"auto\"]       # Paramètres gamma\n",
    "}\n",
    "\n",
    "grid_search_svc = GridSearchCV(\n",
    "    pipeline_svc,\n",
    "    param_grid_svc,\n",
    "    cv=5,\n",
    "    scoring=custom_scorer,\n",
    "    verbose=2\n",
    ")\n"
   ]
  },
  {
   "cell_type": "code",
   "execution_count": 23,
   "metadata": {},
   "outputs": [
    {
     "name": "stdout",
     "output_type": "stream",
     "text": [
      "Fitting 5 folds for each of 12 candidates, totalling 60 fits\n",
      "[CV] END ...svc__C=0.1, svc__gamma=scale, svc__kernel=linear; total time=   0.2s\n",
      "[CV] END ...svc__C=0.1, svc__gamma=scale, svc__kernel=linear; total time=   0.4s\n",
      "[CV] END ...svc__C=0.1, svc__gamma=scale, svc__kernel=linear; total time=   0.1s\n",
      "[CV] END ...svc__C=0.1, svc__gamma=scale, svc__kernel=linear; total time=   0.1s\n",
      "[CV] END ...svc__C=0.1, svc__gamma=scale, svc__kernel=linear; total time=   0.1s\n",
      "[CV] END ......svc__C=0.1, svc__gamma=scale, svc__kernel=rbf; total time=   0.2s\n",
      "[CV] END ......svc__C=0.1, svc__gamma=scale, svc__kernel=rbf; total time=   0.2s\n",
      "[CV] END ......svc__C=0.1, svc__gamma=scale, svc__kernel=rbf; total time=   0.2s\n",
      "[CV] END ......svc__C=0.1, svc__gamma=scale, svc__kernel=rbf; total time=   0.2s\n",
      "[CV] END ......svc__C=0.1, svc__gamma=scale, svc__kernel=rbf; total time=   0.3s\n",
      "[CV] END ....svc__C=0.1, svc__gamma=auto, svc__kernel=linear; total time=   0.2s\n",
      "[CV] END ....svc__C=0.1, svc__gamma=auto, svc__kernel=linear; total time=   0.3s\n",
      "[CV] END ....svc__C=0.1, svc__gamma=auto, svc__kernel=linear; total time=   0.4s\n",
      "[CV] END ....svc__C=0.1, svc__gamma=auto, svc__kernel=linear; total time=   0.3s\n",
      "[CV] END ....svc__C=0.1, svc__gamma=auto, svc__kernel=linear; total time=   0.2s\n",
      "[CV] END .......svc__C=0.1, svc__gamma=auto, svc__kernel=rbf; total time=   0.2s\n",
      "[CV] END .......svc__C=0.1, svc__gamma=auto, svc__kernel=rbf; total time=   0.2s\n",
      "[CV] END .......svc__C=0.1, svc__gamma=auto, svc__kernel=rbf; total time=   0.2s\n",
      "[CV] END .......svc__C=0.1, svc__gamma=auto, svc__kernel=rbf; total time=   0.2s\n",
      "[CV] END .......svc__C=0.1, svc__gamma=auto, svc__kernel=rbf; total time=   0.2s\n",
      "[CV] END .....svc__C=1, svc__gamma=scale, svc__kernel=linear; total time=   0.1s\n",
      "[CV] END .....svc__C=1, svc__gamma=scale, svc__kernel=linear; total time=   0.1s\n",
      "[CV] END .....svc__C=1, svc__gamma=scale, svc__kernel=linear; total time=   0.1s\n",
      "[CV] END .....svc__C=1, svc__gamma=scale, svc__kernel=linear; total time=   0.1s\n",
      "[CV] END .....svc__C=1, svc__gamma=scale, svc__kernel=linear; total time=   0.1s\n",
      "[CV] END ........svc__C=1, svc__gamma=scale, svc__kernel=rbf; total time=   0.2s\n",
      "[CV] END ........svc__C=1, svc__gamma=scale, svc__kernel=rbf; total time=   0.2s\n",
      "[CV] END ........svc__C=1, svc__gamma=scale, svc__kernel=rbf; total time=   0.2s\n",
      "[CV] END ........svc__C=1, svc__gamma=scale, svc__kernel=rbf; total time=   0.2s\n",
      "[CV] END ........svc__C=1, svc__gamma=scale, svc__kernel=rbf; total time=   0.2s\n",
      "[CV] END ......svc__C=1, svc__gamma=auto, svc__kernel=linear; total time=   0.1s\n",
      "[CV] END ......svc__C=1, svc__gamma=auto, svc__kernel=linear; total time=   0.1s\n",
      "[CV] END ......svc__C=1, svc__gamma=auto, svc__kernel=linear; total time=   0.1s\n",
      "[CV] END ......svc__C=1, svc__gamma=auto, svc__kernel=linear; total time=   0.1s\n",
      "[CV] END ......svc__C=1, svc__gamma=auto, svc__kernel=linear; total time=   0.1s\n",
      "[CV] END .........svc__C=1, svc__gamma=auto, svc__kernel=rbf; total time=   0.2s\n",
      "[CV] END .........svc__C=1, svc__gamma=auto, svc__kernel=rbf; total time=   0.2s\n",
      "[CV] END .........svc__C=1, svc__gamma=auto, svc__kernel=rbf; total time=   0.2s\n",
      "[CV] END .........svc__C=1, svc__gamma=auto, svc__kernel=rbf; total time=   0.2s\n",
      "[CV] END .........svc__C=1, svc__gamma=auto, svc__kernel=rbf; total time=   0.2s\n",
      "[CV] END ....svc__C=10, svc__gamma=scale, svc__kernel=linear; total time=   0.1s\n",
      "[CV] END ....svc__C=10, svc__gamma=scale, svc__kernel=linear; total time=   0.1s\n",
      "[CV] END ....svc__C=10, svc__gamma=scale, svc__kernel=linear; total time=   0.1s\n",
      "[CV] END ....svc__C=10, svc__gamma=scale, svc__kernel=linear; total time=   0.1s\n",
      "[CV] END ....svc__C=10, svc__gamma=scale, svc__kernel=linear; total time=   0.1s\n",
      "[CV] END .......svc__C=10, svc__gamma=scale, svc__kernel=rbf; total time=   0.2s\n",
      "[CV] END .......svc__C=10, svc__gamma=scale, svc__kernel=rbf; total time=   0.4s\n",
      "[CV] END .......svc__C=10, svc__gamma=scale, svc__kernel=rbf; total time=   0.3s\n",
      "[CV] END .......svc__C=10, svc__gamma=scale, svc__kernel=rbf; total time=   0.3s\n",
      "[CV] END .......svc__C=10, svc__gamma=scale, svc__kernel=rbf; total time=   0.2s\n",
      "[CV] END .....svc__C=10, svc__gamma=auto, svc__kernel=linear; total time=   0.1s\n",
      "[CV] END .....svc__C=10, svc__gamma=auto, svc__kernel=linear; total time=   0.1s\n",
      "[CV] END .....svc__C=10, svc__gamma=auto, svc__kernel=linear; total time=   0.1s\n",
      "[CV] END .....svc__C=10, svc__gamma=auto, svc__kernel=linear; total time=   0.1s\n",
      "[CV] END .....svc__C=10, svc__gamma=auto, svc__kernel=linear; total time=   0.1s\n",
      "[CV] END ........svc__C=10, svc__gamma=auto, svc__kernel=rbf; total time=   0.2s\n",
      "[CV] END ........svc__C=10, svc__gamma=auto, svc__kernel=rbf; total time=   0.2s\n",
      "[CV] END ........svc__C=10, svc__gamma=auto, svc__kernel=rbf; total time=   0.2s\n",
      "[CV] END ........svc__C=10, svc__gamma=auto, svc__kernel=rbf; total time=   0.2s\n",
      "[CV] END ........svc__C=10, svc__gamma=auto, svc__kernel=rbf; total time=   0.3s\n",
      "Meilleurs paramètres pour SVC avec TF-IDF : {'svc__C': 10, 'svc__gamma': 'scale', 'svc__kernel': 'linear'}\n",
      "Meilleur score avec les paramètres optimisés : 0.979\n"
     ]
    }
   ],
   "source": [
    "\n",
    "\n",
    "# Entraîner avec la recherche de grille\n",
    "grid_search_svc.fit(X_train, y_train)\n",
    "\n",
    "# Afficher les meilleurs paramètres et le score associé\n",
    "print(f\"Meilleurs paramètres pour SVC avec TF-IDF : {grid_search_svc.best_params_}\")\n",
    "print(f\"Meilleur score avec les paramètres optimisés : {grid_search_svc.best_score_:.3f}\")\n",
    "\n"
   ]
  },
  {
   "cell_type": "code",
   "execution_count": 25,
   "metadata": {},
   "outputs": [
    {
     "data": {
      "text/plain": [
       "['tfidf/best_svc_model.joblib']"
      ]
     },
     "execution_count": 25,
     "metadata": {},
     "output_type": "execute_result"
    }
   ],
   "source": [
    "import joblib\n",
    "\n",
    "# Enregistrer la pipeline optimisée\n",
    "joblib.dump(grid_search_svc.best_estimator_, 'tfidf/best_svc_model.joblib')\n"
   ]
  },
  {
   "cell_type": "code",
   "execution_count": 27,
   "metadata": {},
   "outputs": [
    {
     "name": "stdout",
     "output_type": "stream",
     "text": [
      "Fitting 5 folds for each of 6 candidates, totalling 30 fits\n",
      "[CV] END logisticregression__C=0.1, logisticregression__solver=liblinear; total time=   0.0s\n",
      "[CV] END logisticregression__C=0.1, logisticregression__solver=liblinear; total time=   0.0s\n",
      "[CV] END logisticregression__C=0.1, logisticregression__solver=liblinear; total time=   0.0s\n",
      "[CV] END logisticregression__C=0.1, logisticregression__solver=liblinear; total time=   0.0s\n",
      "[CV] END logisticregression__C=0.1, logisticregression__solver=liblinear; total time=   0.0s\n",
      "[CV] END logisticregression__C=0.1, logisticregression__solver=lbfgs; total time=   0.0s\n",
      "[CV] END logisticregression__C=0.1, logisticregression__solver=lbfgs; total time=   0.0s\n",
      "[CV] END logisticregression__C=0.1, logisticregression__solver=lbfgs; total time=   0.0s\n",
      "[CV] END logisticregression__C=0.1, logisticregression__solver=lbfgs; total time=   0.0s\n",
      "[CV] END logisticregression__C=0.1, logisticregression__solver=lbfgs; total time=   0.0s\n",
      "[CV] END logisticregression__C=1, logisticregression__solver=liblinear; total time=   0.0s\n",
      "[CV] END logisticregression__C=1, logisticregression__solver=liblinear; total time=   0.0s\n",
      "[CV] END logisticregression__C=1, logisticregression__solver=liblinear; total time=   0.0s\n",
      "[CV] END logisticregression__C=1, logisticregression__solver=liblinear; total time=   0.0s\n",
      "[CV] END logisticregression__C=1, logisticregression__solver=liblinear; total time=   0.0s\n",
      "[CV] END logisticregression__C=1, logisticregression__solver=lbfgs; total time=   0.0s\n",
      "[CV] END logisticregression__C=1, logisticregression__solver=lbfgs; total time=   0.0s\n",
      "[CV] END logisticregression__C=1, logisticregression__solver=lbfgs; total time=   0.0s\n",
      "[CV] END logisticregression__C=1, logisticregression__solver=lbfgs; total time=   0.0s\n",
      "[CV] END logisticregression__C=1, logisticregression__solver=lbfgs; total time=   0.0s\n",
      "[CV] END logisticregression__C=10, logisticregression__solver=liblinear; total time=   0.0s\n",
      "[CV] END logisticregression__C=10, logisticregression__solver=liblinear; total time=   0.0s\n",
      "[CV] END logisticregression__C=10, logisticregression__solver=liblinear; total time=   0.0s\n",
      "[CV] END logisticregression__C=10, logisticregression__solver=liblinear; total time=   0.0s\n",
      "[CV] END logisticregression__C=10, logisticregression__solver=liblinear; total time=   0.0s\n",
      "[CV] END logisticregression__C=10, logisticregression__solver=lbfgs; total time=   0.0s\n",
      "[CV] END logisticregression__C=10, logisticregression__solver=lbfgs; total time=   0.0s\n",
      "[CV] END logisticregression__C=10, logisticregression__solver=lbfgs; total time=   0.1s\n",
      "[CV] END logisticregression__C=10, logisticregression__solver=lbfgs; total time=   0.1s\n",
      "[CV] END logisticregression__C=10, logisticregression__solver=lbfgs; total time=   0.0s\n"
     ]
    },
    {
     "data": {
      "text/plain": [
       "['tfidf/best_logistic_regression_model.joblib']"
      ]
     },
     "execution_count": 27,
     "metadata": {},
     "output_type": "execute_result"
    }
   ],
   "source": [
    "# Configurer la pipeline avec TF-IDF suivi de la Régression Logistique\n",
    "pipeline_lr = make_pipeline(TfidfVectorizer(), LogisticRegression())\n",
    "\n",
    "# Définir la grille de paramètres pour la Régression Logistique\n",
    "param_grid_lr = {\n",
    "    \"logisticregression__C\": [0.1, 1, 10],\n",
    "    \"logisticregression__solver\": [\"liblinear\", \"lbfgs\"]\n",
    "}\n",
    "\n",
    "# Configurer GridSearchCV avec le scorer personnalisé\n",
    "grid_search_lr = GridSearchCV(\n",
    "    pipeline_lr,\n",
    "    param_grid_lr,\n",
    "    cv=5,\n",
    "    scoring=custom_scorer,\n",
    "    verbose=2\n",
    ")\n",
    "\n",
    "# Entraîner la recherche de grille\n",
    "grid_search_lr.fit(X_train, y_train)\n",
    "\n",
    "# Enregistrer la pipeline optimisée\n",
    "joblib.dump(grid_search_lr.best_estimator_, 'tfidf/best_logistic_regression_model.joblib')\n",
    "\n"
   ]
  },
  {
   "cell_type": "code",
   "execution_count": 28,
   "metadata": {},
   "outputs": [
    {
     "name": "stdout",
     "output_type": "stream",
     "text": [
      "Fitting 5 folds for each of 9 candidates, totalling 45 fits\n",
      "[CV] END randomforestclassifier__max_depth=None, randomforestclassifier__n_estimators=50; total time=   0.4s\n",
      "[CV] END randomforestclassifier__max_depth=None, randomforestclassifier__n_estimators=50; total time=   0.2s\n",
      "[CV] END randomforestclassifier__max_depth=None, randomforestclassifier__n_estimators=50; total time=   0.3s\n",
      "[CV] END randomforestclassifier__max_depth=None, randomforestclassifier__n_estimators=50; total time=   0.3s\n",
      "[CV] END randomforestclassifier__max_depth=None, randomforestclassifier__n_estimators=50; total time=   0.3s\n",
      "[CV] END randomforestclassifier__max_depth=None, randomforestclassifier__n_estimators=100; total time=   0.5s\n",
      "[CV] END randomforestclassifier__max_depth=None, randomforestclassifier__n_estimators=100; total time=   0.8s\n",
      "[CV] END randomforestclassifier__max_depth=None, randomforestclassifier__n_estimators=100; total time=   0.8s\n",
      "[CV] END randomforestclassifier__max_depth=None, randomforestclassifier__n_estimators=100; total time=   0.4s\n",
      "[CV] END randomforestclassifier__max_depth=None, randomforestclassifier__n_estimators=100; total time=   0.4s\n",
      "[CV] END randomforestclassifier__max_depth=None, randomforestclassifier__n_estimators=200; total time=   1.2s\n",
      "[CV] END randomforestclassifier__max_depth=None, randomforestclassifier__n_estimators=200; total time=   1.4s\n",
      "[CV] END randomforestclassifier__max_depth=None, randomforestclassifier__n_estimators=200; total time=   1.4s\n",
      "[CV] END randomforestclassifier__max_depth=None, randomforestclassifier__n_estimators=200; total time=   1.4s\n",
      "[CV] END randomforestclassifier__max_depth=None, randomforestclassifier__n_estimators=200; total time=   1.0s\n",
      "[CV] END randomforestclassifier__max_depth=10, randomforestclassifier__n_estimators=50; total time=   0.1s\n",
      "[CV] END randomforestclassifier__max_depth=10, randomforestclassifier__n_estimators=50; total time=   0.1s\n",
      "[CV] END randomforestclassifier__max_depth=10, randomforestclassifier__n_estimators=50; total time=   0.1s\n",
      "[CV] END randomforestclassifier__max_depth=10, randomforestclassifier__n_estimators=50; total time=   0.1s\n",
      "[CV] END randomforestclassifier__max_depth=10, randomforestclassifier__n_estimators=50; total time=   0.1s\n",
      "[CV] END randomforestclassifier__max_depth=10, randomforestclassifier__n_estimators=100; total time=   0.2s\n",
      "[CV] END randomforestclassifier__max_depth=10, randomforestclassifier__n_estimators=100; total time=   0.2s\n",
      "[CV] END randomforestclassifier__max_depth=10, randomforestclassifier__n_estimators=100; total time=   0.5s\n",
      "[CV] END randomforestclassifier__max_depth=10, randomforestclassifier__n_estimators=100; total time=   0.4s\n",
      "[CV] END randomforestclassifier__max_depth=10, randomforestclassifier__n_estimators=100; total time=   0.2s\n",
      "[CV] END randomforestclassifier__max_depth=10, randomforestclassifier__n_estimators=200; total time=   0.5s\n",
      "[CV] END randomforestclassifier__max_depth=10, randomforestclassifier__n_estimators=200; total time=   0.7s\n",
      "[CV] END randomforestclassifier__max_depth=10, randomforestclassifier__n_estimators=200; total time=   0.9s\n",
      "[CV] END randomforestclassifier__max_depth=10, randomforestclassifier__n_estimators=200; total time=   0.6s\n",
      "[CV] END randomforestclassifier__max_depth=10, randomforestclassifier__n_estimators=200; total time=   0.5s\n",
      "[CV] END randomforestclassifier__max_depth=20, randomforestclassifier__n_estimators=50; total time=   0.1s\n",
      "[CV] END randomforestclassifier__max_depth=20, randomforestclassifier__n_estimators=50; total time=   0.2s\n",
      "[CV] END randomforestclassifier__max_depth=20, randomforestclassifier__n_estimators=50; total time=   0.9s\n",
      "[CV] END randomforestclassifier__max_depth=20, randomforestclassifier__n_estimators=50; total time=   0.6s\n",
      "[CV] END randomforestclassifier__max_depth=20, randomforestclassifier__n_estimators=50; total time=   0.7s\n",
      "[CV] END randomforestclassifier__max_depth=20, randomforestclassifier__n_estimators=100; total time=   0.8s\n",
      "[CV] END randomforestclassifier__max_depth=20, randomforestclassifier__n_estimators=100; total time=   0.4s\n",
      "[CV] END randomforestclassifier__max_depth=20, randomforestclassifier__n_estimators=100; total time=   0.5s\n",
      "[CV] END randomforestclassifier__max_depth=20, randomforestclassifier__n_estimators=100; total time=   0.4s\n",
      "[CV] END randomforestclassifier__max_depth=20, randomforestclassifier__n_estimators=100; total time=   0.4s\n",
      "[CV] END randomforestclassifier__max_depth=20, randomforestclassifier__n_estimators=200; total time=   1.9s\n",
      "[CV] END randomforestclassifier__max_depth=20, randomforestclassifier__n_estimators=200; total time=   1.3s\n",
      "[CV] END randomforestclassifier__max_depth=20, randomforestclassifier__n_estimators=200; total time=   1.5s\n",
      "[CV] END randomforestclassifier__max_depth=20, randomforestclassifier__n_estimators=200; total time=   1.1s\n",
      "[CV] END randomforestclassifier__max_depth=20, randomforestclassifier__n_estimators=200; total time=   1.2s\n"
     ]
    },
    {
     "data": {
      "text/plain": [
       "['tfidf/best_random_forest_model.joblib']"
      ]
     },
     "execution_count": 28,
     "metadata": {},
     "output_type": "execute_result"
    }
   ],
   "source": [
    "# Configurer la pipeline avec TF-IDF suivi de Random Forest\n",
    "pipeline_rf = make_pipeline(TfidfVectorizer(), RandomForestClassifier())\n",
    "\n",
    "# Définir la grille de paramètres pour Random Forest\n",
    "param_grid_rf = {\n",
    "    \"randomforestclassifier__n_estimators\": [50, 100, 200],\n",
    "    \"randomforestclassifier__max_depth\": [None, 10, 20]\n",
    "}\n",
    "\n",
    "# Configurer GridSearchCV avec le scorer personnalisé\n",
    "grid_search_rf = GridSearchCV(\n",
    "    pipeline_rf,\n",
    "    param_grid_rf,\n",
    "    cv=5,\n",
    "    scoring=custom_scorer,\n",
    "    verbose=2\n",
    ")\n",
    "\n",
    "# Entraîner la recherche de grille\n",
    "grid_search_rf.fit(X_train, y_train)\n",
    "\n",
    "# Enregistrer la pipeline optimisée\n",
    "joblib.dump(grid_search_rf.best_estimator_, 'tfidf/best_random_forest_model.joblib')"
   ]
  },
  {
   "cell_type": "code",
   "execution_count": null,
   "metadata": {},
   "outputs": [
    {
     "name": "stdout",
     "output_type": "stream",
     "text": [
      "Fitting 5 folds for each of 6 candidates, totalling 30 fits\n",
      "[CV] END kneighborsclassifier__n_neighbors=3, kneighborsclassifier__weights=uniform; total time=   0.0s\n",
      "[CV] END kneighborsclassifier__n_neighbors=3, kneighborsclassifier__weights=uniform; total time=   0.2s\n",
      "[CV] END kneighborsclassifier__n_neighbors=3, kneighborsclassifier__weights=uniform; total time=   0.0s\n",
      "[CV] END kneighborsclassifier__n_neighbors=3, kneighborsclassifier__weights=uniform; total time=   0.0s\n",
      "[CV] END kneighborsclassifier__n_neighbors=3, kneighborsclassifier__weights=uniform; total time=   0.0s\n",
      "[CV] END kneighborsclassifier__n_neighbors=3, kneighborsclassifier__weights=distance; total time=   0.0s\n",
      "[CV] END kneighborsclassifier__n_neighbors=3, kneighborsclassifier__weights=distance; total time=   0.0s\n",
      "[CV] END kneighborsclassifier__n_neighbors=3, kneighborsclassifier__weights=distance; total time=   0.0s\n",
      "[CV] END kneighborsclassifier__n_neighbors=3, kneighborsclassifier__weights=distance; total time=   0.0s\n",
      "[CV] END kneighborsclassifier__n_neighbors=3, kneighborsclassifier__weights=distance; total time=   0.0s\n",
      "[CV] END kneighborsclassifier__n_neighbors=5, kneighborsclassifier__weights=uniform; total time=   0.0s\n",
      "[CV] END kneighborsclassifier__n_neighbors=5, kneighborsclassifier__weights=uniform; total time=   0.0s\n",
      "[CV] END kneighborsclassifier__n_neighbors=5, kneighborsclassifier__weights=uniform; total time=   0.0s\n",
      "[CV] END kneighborsclassifier__n_neighbors=5, kneighborsclassifier__weights=uniform; total time=   0.0s\n",
      "[CV] END kneighborsclassifier__n_neighbors=5, kneighborsclassifier__weights=uniform; total time=   0.0s\n",
      "[CV] END kneighborsclassifier__n_neighbors=5, kneighborsclassifier__weights=distance; total time=   0.0s\n",
      "[CV] END kneighborsclassifier__n_neighbors=5, kneighborsclassifier__weights=distance; total time=   0.0s\n",
      "[CV] END kneighborsclassifier__n_neighbors=5, kneighborsclassifier__weights=distance; total time=   0.0s\n",
      "[CV] END kneighborsclassifier__n_neighbors=5, kneighborsclassifier__weights=distance; total time=   0.0s\n",
      "[CV] END kneighborsclassifier__n_neighbors=5, kneighborsclassifier__weights=distance; total time=   0.0s\n",
      "[CV] END kneighborsclassifier__n_neighbors=7, kneighborsclassifier__weights=uniform; total time=   0.0s\n",
      "[CV] END kneighborsclassifier__n_neighbors=7, kneighborsclassifier__weights=uniform; total time=   0.0s\n",
      "[CV] END kneighborsclassifier__n_neighbors=7, kneighborsclassifier__weights=uniform; total time=   0.0s\n",
      "[CV] END kneighborsclassifier__n_neighbors=7, kneighborsclassifier__weights=uniform; total time=   0.0s\n",
      "[CV] END kneighborsclassifier__n_neighbors=7, kneighborsclassifier__weights=uniform; total time=   0.0s\n",
      "[CV] END kneighborsclassifier__n_neighbors=7, kneighborsclassifier__weights=distance; total time=   0.0s\n",
      "[CV] END kneighborsclassifier__n_neighbors=7, kneighborsclassifier__weights=distance; total time=   0.0s\n",
      "[CV] END kneighborsclassifier__n_neighbors=7, kneighborsclassifier__weights=distance; total time=   0.0s\n",
      "[CV] END kneighborsclassifier__n_neighbors=7, kneighborsclassifier__weights=distance; total time=   0.0s\n",
      "[CV] END kneighborsclassifier__n_neighbors=7, kneighborsclassifier__weights=distance; total time=   0.1s\n"
     ]
    },
    {
     "data": {
      "text/plain": [
       "['tfidf/best_knn_model.joblib']"
      ]
     },
     "execution_count": 29,
     "metadata": {},
     "output_type": "execute_result"
    }
   ],
   "source": [
    "\n",
    "# Configurer la pipeline avec TF-IDF suivi de KNN\n",
    "pipeline_knn = make_pipeline(TfidfVectorizer(), KNeighborsClassifier())\n",
    "\n",
    "# Définir la grille de paramètres pour KNN\n",
    "param_grid_knn = {\n",
    "    \"kneighborsclassifier__n_neighbors\": [3, 5, 7],\n",
    "    \"kneighborsclassifier__weights\": [\"uniform\", \"distance\"]\n",
    "}\n",
    "\n",
    "# Configurer GridSearchCV avec le scorer personnalisé\n",
    "grid_search_knn = GridSearchCV(\n",
    "    pipeline_knn,\n",
    "    param_grid_knn,\n",
    "    cv=5,\n",
    "    scoring=custom_scorer,\n",
    "    verbose=2\n",
    ")\n",
    "\n",
    "# Entraîner la recherche de grille\n",
    "grid_search_knn.fit(X_train, y_train)\n",
    "\n",
    "# Enregistrer la pipeline optimisée\n",
    "joblib.dump(grid_search_knn.best_estimator_, 'tfidf/best_knn_model.joblib')"
   ]
  }
 ],
 "metadata": {
  "kernelspec": {
   "display_name": "Python 3",
   "language": "python",
   "name": "python3"
  },
  "language_info": {
   "codemirror_mode": {
    "name": "ipython",
    "version": 3
   },
   "file_extension": ".py",
   "mimetype": "text/x-python",
   "name": "python",
   "nbconvert_exporter": "python",
   "pygments_lexer": "ipython3",
   "version": "3.12.2"
  }
 },
 "nbformat": 4,
 "nbformat_minor": 2
}
