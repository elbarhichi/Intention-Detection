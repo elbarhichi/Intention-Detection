{
 "cells": [
  {
   "cell_type": "code",
   "execution_count": 2,
   "metadata": {},
   "outputs": [],
   "source": [
    "from transformers import AutoTokenizer, AutoModelForSequenceClassification\n",
    "\n"
   ]
  },
  {
   "cell_type": "code",
   "execution_count": null,
   "metadata": {},
   "outputs": [
    {
     "data": {
      "text/plain": [
       "('models/bart-large-mnlii\\\\tokenizer_config.json',\n",
       " 'models/bart-large-mnlii\\\\special_tokens_map.json',\n",
       " 'models/bart-large-mnlii\\\\vocab.json',\n",
       " 'models/bart-large-mnlii\\\\merges.txt',\n",
       " 'models/bart-large-mnlii\\\\added_tokens.json',\n",
       " 'models/bart-large-mnlii\\\\tokenizer.json')"
      ]
     },
     "execution_count": 3,
     "metadata": {},
     "output_type": "execute_result"
    }
   ],
   "source": [
    "model_name = \"facebook/bart-large-mnli\"\n",
    "model = AutoModelForSequenceClassification.from_pretrained(model_name)\n",
    "tokenizer = AutoTokenizer.from_pretrained(model_name)\n",
    "\n",
    "save_directory = \"bart-large-mnlii\"\n",
    "model.save_pretrained(save_directory)\n",
    "tokenizer.save_pretrained(save_directory)\n"
   ]
  },
  {
   "cell_type": "code",
   "execution_count": 3,
   "metadata": {},
   "outputs": [
    {
     "name": "stderr",
     "output_type": "stream",
     "text": [
      "The `xla_device` argument has been deprecated in v4.4.0 of Transformers. It is ignored and you can safely remove it from your `config.json` file.\n",
      "The `xla_device` argument has been deprecated in v4.4.0 of Transformers. It is ignored and you can safely remove it from your `config.json` file.\n",
      "The `xla_device` argument has been deprecated in v4.4.0 of Transformers. It is ignored and you can safely remove it from your `config.json` file.\n",
      "The `xla_device` argument has been deprecated in v4.4.0 of Transformers. It is ignored and you can safely remove it from your `config.json` file.\n"
     ]
    },
    {
     "data": {
      "text/plain": [
       "('distilbert-base-uncased-mnli\\\\tokenizer_config.json',\n",
       " 'distilbert-base-uncased-mnli\\\\special_tokens_map.json',\n",
       " 'distilbert-base-uncased-mnli\\\\vocab.txt',\n",
       " 'distilbert-base-uncased-mnli\\\\added_tokens.json',\n",
       " 'distilbert-base-uncased-mnli\\\\tokenizer.json')"
      ]
     },
     "execution_count": 3,
     "metadata": {},
     "output_type": "execute_result"
    }
   ],
   "source": [
    "model_name = \"typeform/distilbert-base-uncased-mnli\"\n",
    "model = AutoModelForSequenceClassification.from_pretrained(model_name)\n",
    "tokenizer = AutoTokenizer.from_pretrained(model_name)\n",
    "\n",
    "save_directory = \"distilbert-base-uncased-mnli\"\n",
    "model.save_pretrained(save_directory)\n",
    "tokenizer.save_pretrained(save_directory)\n"
   ]
  },
  {
   "cell_type": "code",
   "execution_count": 4,
   "metadata": {},
   "outputs": [
    {
     "data": {
      "text/plain": [
       "('mDeBERTa-v3-base-mnli-xnli\\\\tokenizer_config.json',\n",
       " 'mDeBERTa-v3-base-mnli-xnli\\\\special_tokens_map.json',\n",
       " 'mDeBERTa-v3-base-mnli-xnli\\\\spm.model',\n",
       " 'mDeBERTa-v3-base-mnli-xnli\\\\added_tokens.json',\n",
       " 'mDeBERTa-v3-base-mnli-xnli\\\\tokenizer.json')"
      ]
     },
     "execution_count": 4,
     "metadata": {},
     "output_type": "execute_result"
    }
   ],
   "source": [
    "model_name = \"MoritzLaurer/mDeBERTa-v3-base-mnli-xnli\"\n",
    "model = AutoModelForSequenceClassification.from_pretrained(model_name)\n",
    "tokenizer = AutoTokenizer.from_pretrained(model_name)\n",
    "\n",
    "save_directory = \"mDeBERTa-v3-base-mnli-xnli\"\n",
    "model.save_pretrained(save_directory)\n",
    "tokenizer.save_pretrained(save_directory)\n"
   ]
  },
  {
   "cell_type": "code",
   "execution_count": 5,
   "metadata": {},
   "outputs": [
    {
     "data": {
      "text/plain": [
       "('mDeBERTa-v3-base-xnli-multilingual-nli-2mil7\\\\tokenizer_config.json',\n",
       " 'mDeBERTa-v3-base-xnli-multilingual-nli-2mil7\\\\special_tokens_map.json',\n",
       " 'mDeBERTa-v3-base-xnli-multilingual-nli-2mil7\\\\spm.model',\n",
       " 'mDeBERTa-v3-base-xnli-multilingual-nli-2mil7\\\\added_tokens.json',\n",
       " 'mDeBERTa-v3-base-xnli-multilingual-nli-2mil7\\\\tokenizer.json')"
      ]
     },
     "execution_count": 5,
     "metadata": {},
     "output_type": "execute_result"
    }
   ],
   "source": [
    "model_name = \"MoritzLaurer/mDeBERTa-v3-base-xnli-multilingual-nli-2mil7\"\n",
    "model = AutoModelForSequenceClassification.from_pretrained(model_name)\n",
    "tokenizer = AutoTokenizer.from_pretrained(model_name)\n",
    "\n",
    "save_directory = \"mDeBERTa-v3-base-xnli-multilingual-nli-2mil7\"\n",
    "model.save_pretrained(save_directory)\n",
    "tokenizer.save_pretrained(save_directory)\n"
   ]
  },
  {
   "cell_type": "markdown",
   "metadata": {},
   "source": [
    "others:\n",
    "\n",
    "https://huggingface.co/models?pipeline_tag=zero-shot-classification&language=fr&sort=trending"
   ]
  }
 ],
 "metadata": {
  "kernelspec": {
   "display_name": "Python 3",
   "language": "python",
   "name": "python3"
  },
  "language_info": {
   "codemirror_mode": {
    "name": "ipython",
    "version": 3
   },
   "file_extension": ".py",
   "mimetype": "text/x-python",
   "name": "python",
   "nbconvert_exporter": "python",
   "pygments_lexer": "ipython3",
   "version": "3.12.2"
  }
 },
 "nbformat": 4,
 "nbformat_minor": 2
}
