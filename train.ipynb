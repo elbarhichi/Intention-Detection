{
 "cells": [
  {
   "cell_type": "markdown",
   "metadata": {},
   "source": [
    "1. LLM, prompt engineerig, mais temps d'inference (transfo)\n",
    "2. finetuning : \n",
    "3. embedding then classification (random forest, other things)\n"
   ]
  }
 ],
 "metadata": {
  "language_info": {
   "name": "python"
  }
 },
 "nbformat": 4,
 "nbformat_minor": 2
}
